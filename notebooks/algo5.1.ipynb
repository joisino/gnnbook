{
 "cells": [
  {
   "cell_type": "code",
   "execution_count": 1,
   "metadata": {},
   "outputs": [],
   "source": [
    "import time\n",
    "import torch\n",
    "import torch.nn.functional as F\n",
    "from torch_geometric.nn import GCNConv\n",
    "from torch_geometric.datasets import Reddit\n",
    "from torch_geometric.loader import NeighborLoader"
   ]
  },
  {
   "cell_type": "code",
   "execution_count": 2,
   "metadata": {},
   "outputs": [
    {
     "name": "stdout",
     "output_type": "stream",
     "text": [
      "983.9752065760952\n"
     ]
    }
   ],
   "source": [
    "dataset = Reddit(root='/tmp/Reddit')\n",
    "data = dataset[0]\n",
    "print(2 * data.num_edges / data.num_nodes) # 平均次数"
   ]
  },
  {
   "cell_type": "code",
   "execution_count": 3,
   "metadata": {},
   "outputs": [],
   "source": [
    "class GCN(torch.nn.Module):\n",
    "    def __init__(self, in_d, mid_d, out_d):\n",
    "        super().__init__()\n",
    "        self.conv1 = GCNConv(in_d, mid_d)\n",
    "        self.conv2 = GCNConv(mid_d, out_d)\n",
    "\n",
    "    def forward(self, data):\n",
    "        x, edge_index = data.x, data.edge_index\n",
    "\n",
    "        x = self.conv1(x, edge_index)\n",
    "        x = F.relu(x)\n",
    "        x = self.conv2(x, edge_index)\n",
    "\n",
    "        return F.log_softmax(x, dim=1)"
   ]
  },
  {
   "cell_type": "code",
   "execution_count": 4,
   "metadata": {},
   "outputs": [],
   "source": [
    "def calc_acc(model):\n",
    "    model.eval()\n",
    "    pred = model(data).argmax(dim=1)\n",
    "    correct = (pred[data.test_mask] == data.y[data.test_mask]).sum()\n",
    "    acc = int(correct) / int(data.test_mask.sum())\n",
    "    return acc"
   ]
  },
  {
   "cell_type": "code",
   "execution_count": 5,
   "metadata": {},
   "outputs": [],
   "source": [
    "model = GCN(dataset.num_node_features, 32, dataset.num_classes)\n",
    "optimizer = torch.optim.Adam(model.parameters(), lr=0.1, weight_decay=1e-4)"
   ]
  },
  {
   "cell_type": "code",
   "execution_count": 6,
   "metadata": {},
   "outputs": [],
   "source": [
    "def train(epoch):\n",
    "    model.train()\n",
    "    start = time.time()\n",
    "    for epoch in range(epoch):\n",
    "        optimizer.zero_grad()\n",
    "        out = model(data)\n",
    "        loss = F.nll_loss(out[data.train_mask], data.y[data.train_mask])\n",
    "        loss.backward()\n",
    "        optimizer.step()\n",
    "        acc = calc_acc(model)\n",
    "        total_time = time.time() - start\n",
    "        print(str(epoch + 1) + ' エポック目', format(total_time, \".2f\") + ' 秒', '精度 ' + format(acc, \".4f\"))"
   ]
  },
  {
   "cell_type": "code",
   "execution_count": 7,
   "metadata": {},
   "outputs": [
    {
     "name": "stdout",
     "output_type": "stream",
     "text": [
      "1 エポック目 48.51 秒 精度 0.3147\n",
      "2 エポック目 98.34 秒 精度 0.3579\n",
      "3 エポック目 147.90 秒 精度 0.3335\n",
      "4 エポック目 197.96 秒 精度 0.5554\n",
      "5 エポック目 249.53 秒 精度 0.5689\n",
      "6 エポック目 299.92 秒 精度 0.7350\n",
      "7 エポック目 349.91 秒 精度 0.7800\n",
      "8 エポック目 400.63 秒 精度 0.7270\n",
      "9 エポック目 451.18 秒 精度 0.7780\n",
      "10 エポック目 502.39 秒 精度 0.8216\n",
      "11 エポック目 553.34 秒 精度 0.8477\n",
      "12 エポック目 604.36 秒 精度 0.8477\n",
      "13 エポック目 656.40 秒 精度 0.8767\n",
      "14 エポック目 707.33 秒 精度 0.8784\n",
      "15 エポック目 757.85 秒 精度 0.8864\n",
      "16 エポック目 810.29 秒 精度 0.9000\n",
      "17 エポック目 862.02 秒 精度 0.8954\n",
      "18 エポック目 913.94 秒 精度 0.8996\n",
      "19 エポック目 965.94 秒 精度 0.9061\n",
      "20 エポック目 1018.13 秒 精度 0.9089\n",
      "21 エポック目 1070.24 秒 精度 0.9100\n",
      "22 エポック目 1121.12 秒 精度 0.9140\n",
      "23 エポック目 1173.96 秒 精度 0.9153\n",
      "24 エポック目 1226.18 秒 精度 0.9166\n",
      "25 エポック目 1277.86 秒 精度 0.9186\n",
      "26 エポック目 1331.17 秒 精度 0.9211\n",
      "27 エポック目 1383.94 秒 精度 0.9233\n",
      "28 エポック目 1435.31 秒 精度 0.9235\n",
      "29 エポック目 1486.99 秒 精度 0.9255\n",
      "30 エポック目 1540.73 秒 精度 0.9273\n"
     ]
    }
   ],
   "source": [
    "train(30)"
   ]
  },
  {
   "cell_type": "code",
   "execution_count": 8,
   "metadata": {},
   "outputs": [],
   "source": [
    "model = GCN(dataset.num_node_features, 32, dataset.num_classes)\n",
    "optimizer = torch.optim.SGD(model.parameters(), lr=0.1, weight_decay=1e-4)"
   ]
  },
  {
   "cell_type": "code",
   "execution_count": 9,
   "metadata": {},
   "outputs": [],
   "source": [
    "def train_neighborhood_sampling(epoch, batch_size=128):\n",
    "    model.train()\n",
    "    loader = NeighborLoader(\n",
    "        data,\n",
    "        num_neighbors=[5] * 2,\n",
    "        batch_size=batch_size,\n",
    "        input_nodes=data.train_mask,\n",
    "    )\n",
    "    start = time.time()\n",
    "    for epoch in range(epoch):\n",
    "        for sampled_data in loader:\n",
    "            optimizer.zero_grad()\n",
    "            out = model(sampled_data)\n",
    "            loss = F.nll_loss(out[:batch_size], sampled_data.y[:batch_size])\n",
    "            loss.backward()\n",
    "            optimizer.step()\n",
    "        acc = calc_acc(model)\n",
    "        total_time = time.time() - start\n",
    "        print(str(epoch + 1) + ' エポック目', format(total_time, \".2f\") + ' 秒', '精度 ' + format(acc, \".4f\"))"
   ]
  },
  {
   "cell_type": "code",
   "execution_count": 10,
   "metadata": {},
   "outputs": [
    {
     "name": "stdout",
     "output_type": "stream",
     "text": [
      "1 エポック目 25.69 秒 精度 0.9273\n",
      "2 エポック目 55.55 秒 精度 0.9322\n",
      "3 エポック目 80.46 秒 精度 0.9333\n"
     ]
    }
   ],
   "source": [
    "train_neighborhood_sampling(3)\n",
    "# サンプリングがある方が 1 エポックあたりの時間が短く、かつミニバッチだと 1 エポックに多く更新するので必要なエポック数も少ない"
   ]
  }
 ],
 "metadata": {
  "kernelspec": {
   "display_name": "Python 3 (ipykernel)",
   "language": "python",
   "name": "python3"
  },
  "language_info": {
   "codemirror_mode": {
    "name": "ipython",
    "version": 3
   },
   "file_extension": ".py",
   "mimetype": "text/x-python",
   "name": "python",
   "nbconvert_exporter": "python",
   "pygments_lexer": "ipython3",
   "version": "3.8.17"
  }
 },
 "nbformat": 4,
 "nbformat_minor": 2
}
