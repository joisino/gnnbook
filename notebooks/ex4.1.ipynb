{
 "cells": [
  {
   "cell_type": "code",
   "execution_count": 1,
   "metadata": {},
   "outputs": [],
   "source": [
    "import torch\n",
    "import torch.nn as nn\n",
    "import torch.nn.functional as F\n",
    "from torch_geometric.nn import GINConv\n",
    "from torch_geometric.utils import scatter\n",
    "from torch_geometric.loader import DataLoader\n",
    "from torch_geometric.datasets import TUDataset"
   ]
  },
  {
   "cell_type": "code",
   "execution_count": 2,
   "metadata": {},
   "outputs": [],
   "source": [
    "dataset = TUDataset(root='/tmp/nci1', name='NCI1')\n",
    "dataset = dataset.shuffle()\n",
    "n_train = len(dataset) // 10 * 9\n",
    "n_test = len(dataset) - n_train\n",
    "train_dataset = dataset[:n_train]\n",
    "test_dataset = dataset[n_train:]"
   ]
  },
  {
   "cell_type": "code",
   "execution_count": 3,
   "metadata": {},
   "outputs": [],
   "source": [
    "# グラフ同型ネットワークの定義\n",
    "class MLP(nn.Module):\n",
    "    def __init__(self, in_d, mid_d, out_d):\n",
    "        super(MLP, self).__init__()\n",
    "        self.main = nn.Sequential(\n",
    "            nn.Linear(in_d, mid_d),\n",
    "            nn.BatchNorm1d(mid_d),\n",
    "            nn.ReLU(),\n",
    "            nn.Linear(mid_d, out_d),\n",
    "            nn.BatchNorm1d(out_d),\n",
    "            nn.ReLU()\n",
    "        )\n",
    "\n",
    "    def forward(self, input):\n",
    "        return self.main(input)\n",
    "\n",
    "\n",
    "class GIN(torch.nn.Module):\n",
    "    def __init__(self, in_d, mid_d, out_d):\n",
    "        super(GIN, self).__init__()\n",
    "\n",
    "        self.first_layer = MLP(in_d, mid_d, mid_d)\n",
    "        self.conv1 = GINConv(MLP(mid_d, mid_d, mid_d))\n",
    "        self.conv2 = GINConv(MLP(mid_d, mid_d, mid_d))\n",
    "        self.conv3 = GINConv(MLP(mid_d, mid_d, mid_d))\n",
    "        self.predictor = nn.Sequential(\n",
    "            nn.Linear(mid_d, mid_d),\n",
    "            nn.BatchNorm1d(mid_d),\n",
    "            nn.ReLU(),\n",
    "            nn.Linear(mid_d, out_d),\n",
    "        )\n",
    "\n",
    "    def forward(self, data):\n",
    "        x, edge_index, batch = data.x, data.edge_index, data.batch\n",
    "        x = self.first_layer(x)\n",
    "        x = self.conv1(x, edge_index)\n",
    "        x = self.conv2(x, edge_index)\n",
    "        x = self.conv3(x, edge_index)\n",
    "        graph_embeddings = scatter(x, batch, dim=0, reduce='max')\n",
    "        res = self.predictor(graph_embeddings)\n",
    "        return F.log_softmax(res, dim=1)"
   ]
  },
  {
   "cell_type": "code",
   "execution_count": 4,
   "metadata": {},
   "outputs": [],
   "source": [
    "model = GIN(dataset.num_node_features, 32, dataset.num_classes)"
   ]
  },
  {
   "cell_type": "code",
   "execution_count": 5,
   "metadata": {},
   "outputs": [],
   "source": [
    "optimizer = torch.optim.SGD(model.parameters(), lr=1e-2, weight_decay=1e-4)"
   ]
  },
  {
   "cell_type": "code",
   "execution_count": 6,
   "metadata": {},
   "outputs": [],
   "source": [
    "def train(epoch):\n",
    "    model.train()\n",
    "    loader = DataLoader(train_dataset, batch_size=32, shuffle=True)\n",
    "    for i in range(epoch):\n",
    "        for data in loader:\n",
    "            optimizer.zero_grad()\n",
    "            out = model(data)\n",
    "            loss = F.nll_loss(out, data.y)\n",
    "            loss.backward()\n",
    "            optimizer.step()"
   ]
  },
  {
   "cell_type": "code",
   "execution_count": 7,
   "metadata": {},
   "outputs": [
    {
     "name": "stdout",
     "output_type": "stream",
     "text": [
      "CPU times: user 1h 9min 30s, sys: 4.34 s, total: 1h 9min 34s\n",
      "Wall time: 5min 48s\n"
     ]
    }
   ],
   "source": [
    "%time train(500)"
   ]
  },
  {
   "cell_type": "code",
   "execution_count": 8,
   "metadata": {},
   "outputs": [
    {
     "data": {
      "text/plain": [
       "0.8175182481751825"
      ]
     },
     "execution_count": 8,
     "metadata": {},
     "output_type": "execute_result"
    }
   ],
   "source": [
    "model.eval()\n",
    "acc = 0\n",
    "for data in DataLoader(test_dataset, batch_size=32):\n",
    "    pred = model(data).max(1)[1]\n",
    "    acc += pred.eq(data.y).sum().item()\n",
    "acc / len(test_dataset)"
   ]
  }
 ],
 "metadata": {
  "kernelspec": {
   "display_name": "Python 3 (ipykernel)",
   "language": "python",
   "name": "python3"
  },
  "language_info": {
   "codemirror_mode": {
    "name": "ipython",
    "version": 3
   },
   "file_extension": ".py",
   "mimetype": "text/x-python",
   "name": "python",
   "nbconvert_exporter": "python",
   "pygments_lexer": "ipython3",
   "version": "3.8.17"
  }
 },
 "nbformat": 4,
 "nbformat_minor": 2
}
